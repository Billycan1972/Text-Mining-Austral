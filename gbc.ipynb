{
 "cells": [
  {
   "cell_type": "markdown",
   "metadata": {},
   "source": [
    "# Librerias"
   ]
  },
  {
   "cell_type": "code",
   "execution_count": 65,
   "metadata": {},
   "outputs": [],
   "source": [
    "# Librerias basicas \n",
    "import numpy as np \n",
    "import pandas as pd \n",
    "import os\n",
    "\n",
    "# Visualizacióon\n",
    "import matplotlib.pyplot as plt\n",
    "import seaborn as sns \n",
    "from plotly import express as px\n",
    "from scipy import stats\n",
    "\n",
    "# Funciones auxiliares sklearn\n",
    "from sklearn.model_selection import train_test_split, StratifiedKFold, cross_val_score, KFold, cross_val_predict, GridSearchCV\n",
    "from sklearn.metrics import cohen_kappa_score, make_scorer, accuracy_score, balanced_accuracy_score, confusion_matrix, roc_curve, auc, accuracy_score, mean_squared_error, mean_absolute_error, r2_score, classification_report # Metricas\n",
    "from sklearn import metrics\n",
    "from sklearn.utils import shuffle\n",
    "from sklearn.pipeline import Pipeline\n",
    "from sklearn.inspection import permutation_importance\n",
    "\n",
    "# Preprocessing\n",
    "from sklearn.preprocessing import StandardScaler\n",
    "\n",
    "# Guardar modelos\n",
    "import pickle\n",
    "\n",
    "# Models\n",
    "from sklearn.svm import SVC, SVR\n",
    "from sklearn.ensemble import RandomForestClassifier, RandomForestRegressor\n",
    "from sklearn.ensemble import GradientBoostingClassifier, GradientBoostingRegressor\n",
    "from sklearn.neural_network import MLPClassifier, MLPRegressor\n",
    "\n",
    "# WoE\n",
    "from category_encoders import *\n",
    "\n",
    "# Preprocesamiento de datos\n",
    "from sklearn.pipeline import Pipeline\n",
    "from sklearn.impute import SimpleImputer\n",
    "from sklearn.preprocessing import OrdinalEncoder\n",
    "from sklearn.preprocessing import OneHotEncoder\n",
    "from sklearn.compose import ColumnTransformer\n",
    "from sklearn.preprocessing import StandardScaler\n",
    "\n",
    "\n",
    "# Plot de matriz de confusion normalizada en actuals\n",
    "from utils import plot_confusion_matrix, get_artifact_filename\n",
    "\n",
    "# Optimizacion de hiperparametros\n",
    "import optuna\n",
    "from optuna.artifacts import FileSystemArtifactStore, upload_artifact\n",
    "from functools import partial\n",
    "\n",
    "#Guardado de objetos en archivos joblib\n",
    "from joblib import load, dump\n",
    "\n",
    "import warnings\n",
    "warnings.filterwarnings(\"ignore\")"
   ]
  },
  {
   "cell_type": "markdown",
   "metadata": {},
   "source": [
    "## Optuna"
   ]
  },
  {
   "cell_type": "markdown",
   "metadata": {},
   "source": [
    "Para ejecutar optuna:\n",
    "\n",
    "> _optuna-dasboard sqlite:///db2.sqlite3 –port 8081_"
   ]
  },
  {
   "cell_type": "markdown",
   "metadata": {},
   "source": [
    "# Rutas"
   ]
  },
  {
   "cell_type": "code",
   "execution_count": 49,
   "metadata": {},
   "outputs": [],
   "source": [
    "#Subimos dos niveles para quedar en la carpeta que contiene input y lab2-mcd-austral\n",
    "BASE_DIR = './'\n",
    "\n",
    "#Datos de entrenamiento \n",
    "PATH_TO_TRAIN= os.path.join(BASE_DIR, \"dataset_pesos.csv\")\n",
    "\n",
    "#Salida de modelos entrenados\n",
    "PATH_TO_MODELS = os.path.join(BASE_DIR, \"work/models\")\n",
    "\n",
    "#Artefactos a subir a optuna\n",
    "PATH_TO_TEMP_FILES = os.path.join(BASE_DIR, \"work/optuna_temp_artifacts\")\n",
    "\n",
    "#Artefactos que optuna gestiona\n",
    "PATH_TO_OPTUNA_ARTIFACTS = os.path.join(BASE_DIR, \"work/optuna_artifacts\")"
   ]
  },
  {
   "cell_type": "markdown",
   "metadata": {},
   "source": [
    "# Dataset"
   ]
  },
  {
   "cell_type": "code",
   "execution_count": 50,
   "metadata": {},
   "outputs": [
    {
     "data": {
      "text/html": [
       "<div>\n",
       "<style scoped>\n",
       "    .dataframe tbody tr th:only-of-type {\n",
       "        vertical-align: middle;\n",
       "    }\n",
       "\n",
       "    .dataframe tbody tr th {\n",
       "        vertical-align: top;\n",
       "    }\n",
       "\n",
       "    .dataframe thead th {\n",
       "        text-align: right;\n",
       "    }\n",
       "</style>\n",
       "<table border=\"1\" class=\"dataframe\">\n",
       "  <thead>\n",
       "    <tr style=\"text-align: right;\">\n",
       "      <th></th>\n",
       "      <th>Unnamed: 0</th>\n",
       "      <th>Ejercicio</th>\n",
       "      <th>Tipo_Cpbte</th>\n",
       "      <th>N°_Entrada</th>\n",
       "      <th>Entidad_Nº</th>\n",
       "      <th>Cod_Ret</th>\n",
       "      <th>Fte_Fin.</th>\n",
       "      <th>Cuit/DniOtros</th>\n",
       "      <th>Clase_Registro</th>\n",
       "      <th>Clase_Gasto</th>\n",
       "      <th>Glosa</th>\n",
       "      <th>Sueldo</th>\n",
       "      <th>texto_limpio</th>\n",
       "      <th>pesos</th>\n",
       "      <th>cuentas_sueldo</th>\n",
       "      <th>pesos_cuentas</th>\n",
       "    </tr>\n",
       "  </thead>\n",
       "  <tbody>\n",
       "    <tr>\n",
       "      <th>0</th>\n",
       "      <td>0</td>\n",
       "      <td>2021</td>\n",
       "      <td>AF</td>\n",
       "      <td>137</td>\n",
       "      <td>25</td>\n",
       "      <td>217</td>\n",
       "      <td>10</td>\n",
       "      <td>710</td>\n",
       "      <td>ANT</td>\n",
       "      <td>NaN</td>\n",
       "      <td>RES 7/21 ANTICIPO SUB. Y SUBVEN. CTA 360000200...</td>\n",
       "      <td>0</td>\n",
       "      <td>ANTICIPO SUB SUBVEN</td>\n",
       "      <td>95</td>\n",
       "      <td>360000200981158</td>\n",
       "      <td>4</td>\n",
       "    </tr>\n",
       "  </tbody>\n",
       "</table>\n",
       "</div>"
      ],
      "text/plain": [
       "   Unnamed: 0  Ejercicio Tipo_Cpbte  N°_Entrada  Entidad_Nº  Cod_Ret  \\\n",
       "0           0       2021         AF         137          25      217   \n",
       "\n",
       "   Fte_Fin.  Cuit/DniOtros Clase_Registro Clase_Gasto  \\\n",
       "0        10            710            ANT         NaN   \n",
       "\n",
       "                                               Glosa  Sueldo  \\\n",
       "0  RES 7/21 ANTICIPO SUB. Y SUBVEN. CTA 360000200...       0   \n",
       "\n",
       "          texto_limpio  pesos   cuentas_sueldo  pesos_cuentas  \n",
       "0  ANTICIPO SUB SUBVEN     95  360000200981158              4  "
      ]
     },
     "execution_count": 50,
     "metadata": {},
     "output_type": "execute_result"
    }
   ],
   "source": [
    "df = pd.read_csv(PATH_TO_TRAIN, sep=';')\n",
    "df.head(1)"
   ]
  },
  {
   "cell_type": "markdown",
   "metadata": {},
   "source": [
    "# EDA"
   ]
  },
  {
   "cell_type": "code",
   "execution_count": null,
   "metadata": {},
   "outputs": [],
   "source": [
    "# TODO"
   ]
  },
  {
   "cell_type": "markdown",
   "metadata": {},
   "source": [
    "# Preprocesamiento"
   ]
  },
  {
   "cell_type": "markdown",
   "metadata": {},
   "source": [
    "El pre-procesamiento de datos consiste en imputar los NA encontrados."
   ]
  },
  {
   "cell_type": "code",
   "execution_count": null,
   "metadata": {},
   "outputs": [],
   "source": [
    "# TODO"
   ]
  },
  {
   "cell_type": "code",
   "execution_count": 51,
   "metadata": {},
   "outputs": [],
   "source": [
    "if 'Unnamed: 0' in df.columns:\n",
    "    df = df.drop('Unnamed: 0', axis=1)"
   ]
  },
  {
   "cell_type": "markdown",
   "metadata": {},
   "source": [
    "# Feature Engineering"
   ]
  },
  {
   "cell_type": "markdown",
   "metadata": {},
   "source": [
    "En esta sección buscamos crear nuevas variables que permitan enriquecer el dataset y que permitan a los modelos obtener mejores scores."
   ]
  },
  {
   "cell_type": "code",
   "execution_count": null,
   "metadata": {},
   "outputs": [],
   "source": []
  },
  {
   "cell_type": "markdown",
   "metadata": {},
   "source": [
    "### Variables numéricas: Normalizar"
   ]
  },
  {
   "cell_type": "markdown",
   "metadata": {},
   "source": [
    "Casi todas las variables numéricas presentan outliers. Realizamos la normalización como ejercicio práctico, entendiendo que no afectará al modelo de forma negativa, aunque esta no sea neceria para los modelos que utilizaremos en la próxima sección."
   ]
  },
  {
   "cell_type": "code",
   "execution_count": null,
   "metadata": {},
   "outputs": [],
   "source": []
  },
  {
   "cell_type": "markdown",
   "metadata": {},
   "source": [
    "### Variables categóricas: One Hot Encoding"
   ]
  },
  {
   "cell_type": "code",
   "execution_count": 52,
   "metadata": {},
   "outputs": [],
   "source": [
    "# onehot encoding\n",
    "df.join(pd.get_dummies(df[[\"Tipo_Cpbte\"]]))\n",
    "df.drop(columns=[\"Tipo_Cpbte\"], inplace=True)\n",
    "\n",
    "df.join(pd.get_dummies(df[[\"Clase_Registro\"]]))\n",
    "df.drop(columns=[\"Clase_Registro\"], inplace=True)\n",
    "\n",
    "df.join(pd.get_dummies(df[[\"Clase_Gasto\"]]))\n",
    "df.drop(columns=[\"Clase_Gasto\"], inplace=True)\n",
    "\n"
   ]
  },
  {
   "cell_type": "markdown",
   "metadata": {},
   "source": [
    "# Separa la base de Test y Train"
   ]
  },
  {
   "cell_type": "markdown",
   "metadata": {},
   "source": [
    "En esta sección haremos un split del dataset en Train y Test considerando un size de 0.2"
   ]
  },
  {
   "cell_type": "code",
   "execution_count": 53,
   "metadata": {},
   "outputs": [],
   "source": [
    "SEED = 12345\n",
    "TEST_SIZE = 0.2"
   ]
  },
  {
   "cell_type": "markdown",
   "metadata": {},
   "source": [
    "Train y Test del dataset original"
   ]
  },
  {
   "cell_type": "code",
   "execution_count": 57,
   "metadata": {},
   "outputs": [
    {
     "data": {
      "text/plain": [
       "Index(['Ejercicio', 'N°_Entrada', 'Entidad_Nº', 'Cod_Ret', 'Fte_Fin.',\n",
       "       'Cuit/DniOtros', 'Glosa', 'Sueldo', 'texto_limpio', 'pesos',\n",
       "       'cuentas_sueldo', 'pesos_cuentas'],\n",
       "      dtype='object')"
      ]
     },
     "execution_count": 57,
     "metadata": {},
     "output_type": "execute_result"
    }
   ],
   "source": [
    "df.columns"
   ]
  },
  {
   "cell_type": "code",
   "execution_count": 73,
   "metadata": {},
   "outputs": [],
   "source": [
    "df_1 = df.copy()\n",
    "columns_original = [\"Sueldo\",\"Glosa\",\"N°_Entrada\",\"Ejercicio\", \"texto_limpio\", \"cuentas_sueldo\", \"pesos\",\"pesos_cuentas\"]\n",
    "X_original = df_1.drop(columns = columns_original)\n",
    "y_original = df_1.Sueldo\n",
    "\n",
    "# División en conjuntos de entrenamiento y prueba\n",
    "X_train_original, X_test_original, y_train_original, y_test_original = train_test_split(X_original, y_original, test_size=TEST_SIZE, random_state=SEED)"
   ]
  },
  {
   "cell_type": "code",
   "execution_count": 74,
   "metadata": {},
   "outputs": [],
   "source": [
    "# Combinar X_train y y_train en un solo DataFrame\n",
    "train_original = pd.concat([X_train_original, y_train_original], axis=1)\n",
    "\n",
    "# Combinar X_test y y_test en un solo DataFrame\n",
    "test_original = pd.concat([X_test_original, y_test_original], axis=1)"
   ]
  },
  {
   "cell_type": "markdown",
   "metadata": {},
   "source": [
    "Train y Test del dataset con el score"
   ]
  },
  {
   "cell_type": "code",
   "execution_count": 61,
   "metadata": {},
   "outputs": [],
   "source": [
    "df_2 = df.copy()\n",
    "# X = df.drop(columns = [\"Sueldo\",\"Glosa\",\"N°_Entrada\",\"Ejercicio\", \"Cod_Ret\"])\n",
    "X_pesos = df_2.drop(columns = [\"Sueldo\",\"Glosa\",\"N°_Entrada\",\"Ejercicio\", \"texto_limpio\", \"cuentas_sueldo\"])\n",
    "y_pesos = df_2.Sueldo\n",
    "\n",
    "# División en conjuntos de entrenamiento y prueba\n",
    "X_train_pesos, X_test_pesos, y_train_pesos, y_test_pesos = train_test_split(X_pesos, y_pesos, test_size=TEST_SIZE, random_state=SEED)"
   ]
  },
  {
   "cell_type": "code",
   "execution_count": 62,
   "metadata": {},
   "outputs": [],
   "source": [
    "# Combinar X_train y y_train en un solo DataFrame\n",
    "train_pesos = pd.concat([X_train_pesos, y_train_pesos], axis=1)\n",
    "\n",
    "# Combinar X_test y y_test en un solo DataFrame\n",
    "test_pesos = pd.concat([X_test_pesos, y_test_pesos], axis=1)"
   ]
  },
  {
   "cell_type": "markdown",
   "metadata": {},
   "source": [
    "Resultados del split"
   ]
  },
  {
   "cell_type": "code",
   "execution_count": 75,
   "metadata": {},
   "outputs": [
    {
     "name": "stdout",
     "output_type": "stream",
     "text": [
      "X_train: 121778 filas\n",
      "X_test: 30445 filas\n",
      "y_train: 121778 filas\n",
      "y_test: 30445 filas\n"
     ]
    }
   ],
   "source": [
    "conjuntos = {\"X_train\": X_train_original, \"X_test\": X_test_original, \"y_train\": y_train_original, \"y_test\": y_test_original}\n",
    "for key, value in conjuntos.items():\n",
    "    print(f\"{key}: {len(value)} filas\")"
   ]
  },
  {
   "cell_type": "markdown",
   "metadata": {},
   "source": [
    "# Modelos"
   ]
  },
  {
   "cell_type": "markdown",
   "metadata": {},
   "source": [
    "A continuación vamos a hacer la optimización de hiperparámetros, entrenamiento y validación de los modelos utilizando el framework de optuna, que nos provee una aplicación web para ir monitoreando el progreso de la optimización. Se utilizará además 5 fold cross validation."
   ]
  },
  {
   "cell_type": "markdown",
   "metadata": {},
   "source": [
    "### Modelo I: _Random Forest Classifier_"
   ]
  },
  {
   "cell_type": "code",
   "execution_count": 77,
   "metadata": {},
   "outputs": [],
   "source": [
    "def cv_es_rfc_objective(trial):\n",
    "\n",
    "    #Parametros\n",
    "    rfc_params = {      \n",
    "                        #'n_estimators': trial.suggest_int('n_estimators', 100, 1000, step=100),\n",
    "                        'max_depth': trial.suggest_int('max_depth', 3, 15)\n",
    "                        #'max_depth': trial.suggest_int('max_depth', 3, 4)\n",
    "                        # 'min_samples_split': trial.suggest_int('min_samples_split', 2, 20),\n",
    "                        # 'min_samples_leaf': trial.suggest_int('min_samples_leaf', 1, 10),\n",
    "                        # 'max_features': trial.suggest_categorical('max_features', ['sqrt', 'log2']),\n",
    "                        # 'bootstrap': trial.suggest_categorical('bootstrap', [True, False])\n",
    "                        } \n",
    "\n",
    "    #Voy a generar estimaciones de los 5 modelos del CV sobre los datos test y los acumulo en la matriz scores_ensemble\n",
    "    scores_ensemble = np.zeros((len(y_test),len(y_train.unique())))\n",
    "\n",
    "    #Score del 5 fold CV inicializado en 0\n",
    "    score_folds = 0\n",
    "\n",
    "    #Numero de splits del CV\n",
    "    n_splits = 5\n",
    "\n",
    "    #Objeto para hacer el split estratificado de CV\n",
    "    skf = StratifiedKFold(n_splits=n_splits)\n",
    "\n",
    "    for i, (if_index, oof_index) in enumerate(skf.split(X_train, y_train)):\n",
    "        \n",
    "        # Dataset in fold (donde entreno)\n",
    "        X_if, y_if = X_train.iloc[if_index], y_train.iloc[if_index]\n",
    "        \n",
    "        # Dataset Out of fold (donde mido la performance del CV)\n",
    "        X_oof, y_oof = X_train.iloc[oof_index], y_train.iloc[oof_index]\n",
    "\n",
    "        # Crear el modelo RandomForestClassifier con los parámetros sugeridos\n",
    "        rfc_model = RandomForestClassifier(**rfc_params, random_state=42)\n",
    "        \n",
    "        # Entrenar el modelo\n",
    "        rfc_model.fit(X_if, y_if)\n",
    "        \n",
    "        # Acumular los scores (probabilidades) de cada clase para cada uno de los modelos que determino en los folds\n",
    "        scores_ensemble += rfc_model.predict_proba(X_test)\n",
    "        \n",
    "        # Score del fold (registros de dataset train que en este fold quedan out of fold)\n",
    "        score_folds += accuracy_score(y_oof, rfc_model.predict(X_oof)) / n_splits\n",
    "\n",
    "\n",
    "    #Guardo prediccion del trial sobre el conjunto de test\n",
    "    # Genero nombre de archivo\n",
    "    predicted_filename = os.path.join(PATH_TO_TEMP_FILES,f'test_{trial.study.study_name}_{trial.number}.joblib')\n",
    "    # Copia del dataset para guardar la prediccion\n",
    "    predicted_df = test.copy()\n",
    "    # Genero columna pred con predicciones sumadas de los 5 folds\n",
    "    predicted_df['pred'] = [scores_ensemble[p,:] for p in range(scores_ensemble.shape[0])]\n",
    "    # Grabo dataframe en temp_artifacts\n",
    "    dump(predicted_df, predicted_filename)\n",
    "    # Indico a optuna que asocie el archivo generado al trial\n",
    "    upload_artifact(trial, predicted_filename, artifact_store)    \n",
    "\n",
    "    #Grabo natriz de confusion\n",
    "    #Nombre de archivo\n",
    "    cm_filename = os.path.join(PATH_TO_TEMP_FILES,f'cm_{trial.study.study_name}_{trial.number}.jpg')\n",
    "    #Grabo archivo\n",
    "    plot_confusion_matrix(y_test,scores_ensemble.argmax(axis=1)).write_image(cm_filename)\n",
    "    #Asocio al trial\n",
    "    upload_artifact(trial, cm_filename, artifact_store)\n",
    "\n",
    "    #Determino score en conjunto de test y asocio como metrica adicional en optuna\n",
    "    test_score = accuracy_score(y_test, scores_ensemble.argmax(axis=1))\n",
    "    trial.set_user_attr(\"test_score\", test_score)\n",
    "\n",
    "    #Devuelvo score del 5fold cv a optuna para que optimice en base a eso\n",
    "    return(score_folds)"
   ]
  },
  {
   "cell_type": "markdown",
   "metadata": {},
   "source": [
    "Iniciamos optuna para el modelo RandomForestClassifier: dataset original"
   ]
  },
  {
   "cell_type": "code",
   "execution_count": 78,
   "metadata": {},
   "outputs": [
    {
     "name": "stderr",
     "output_type": "stream",
     "text": [
      "[I 2024-08-10 21:20:17,235] Using an existing study with name 'RandomForestClasiffier-original' instead of creating a new one.\n",
      "[I 2024-08-10 21:20:43,925] Trial 4 finished with value: 0.9682290835532431 and parameters: {'max_depth': 9}. Best is trial 4 with value: 0.9682290835532431.\n",
      "[I 2024-08-10 21:21:05,921] Trial 5 finished with value: 0.9704626406786974 and parameters: {'max_depth': 11}. Best is trial 5 with value: 0.9704626406786974.\n",
      "[I 2024-08-10 21:21:27,767] Trial 6 finished with value: 0.9715958529199344 and parameters: {'max_depth': 14}. Best is trial 6 with value: 0.9715958529199344.\n",
      "[I 2024-08-10 21:21:52,985] Trial 7 finished with value: 0.9704626406786974 and parameters: {'max_depth': 11}. Best is trial 6 with value: 0.9715958529199344.\n",
      "[I 2024-08-10 21:22:16,178] Trial 8 finished with value: 0.9681716031874961 and parameters: {'max_depth': 8}. Best is trial 6 with value: 0.9715958529199344.\n",
      "[I 2024-08-10 21:22:38,317] Trial 9 finished with value: 0.9689763482003872 and parameters: {'max_depth': 10}. Best is trial 6 with value: 0.9715958529199344.\n",
      "[I 2024-08-10 21:23:02,487] Trial 10 finished with value: 0.9715958529199344 and parameters: {'max_depth': 14}. Best is trial 6 with value: 0.9715958529199344.\n",
      "[I 2024-08-10 21:23:17,949] Trial 11 finished with value: 0.9666770856938036 and parameters: {'max_depth': 4}. Best is trial 6 with value: 0.9715958529199344.\n",
      "[I 2024-08-10 21:23:37,100] Trial 12 finished with value: 0.9674736201891878 and parameters: {'max_depth': 6}. Best is trial 6 with value: 0.9715958529199344.\n",
      "[I 2024-08-10 21:24:03,005] Trial 13 finished with value: 0.9715876413909477 and parameters: {'max_depth': 15}. Best is trial 6 with value: 0.9715958529199344.\n"
     ]
    }
   ],
   "source": [
    "#Inicio el store de artefactos (archivos) de optuna\n",
    "artifact_store = FileSystemArtifactStore(base_path=PATH_TO_OPTUNA_ARTIFACTS)\n",
    "\n",
    "# Train y Test\n",
    "X_train = X_train_original\n",
    "y_train = y_train_original\n",
    "X_test = X_test_original\n",
    "y_test = y_test_original\n",
    "train = train_original\n",
    "test = test_original\n",
    "\n",
    "#Genero estudio\n",
    "study = optuna.create_study(direction='maximize',\n",
    "                            storage=\"sqlite:///prueba.sqlite3\",  # Specify the storage URL here.\n",
    "                            study_name=\"RandomForestClasiffier-original\",\n",
    "                            load_if_exists = True)\n",
    "\n",
    "# Usamos partial para pasar x_train y x_test a la función objetivo\n",
    "# objective_with_data = partial(cv_es_rfc_objective, X_train, y_train, train, test)\n",
    "\n",
    "#Corro la optimizacion\n",
    "study.optimize(cv_es_rfc_objective, n_trials=10)"
   ]
  },
  {
   "cell_type": "markdown",
   "metadata": {},
   "source": [
    "Iniciamos optuna para el modelo RandomForestClassifier: dataset con scores"
   ]
  },
  {
   "cell_type": "code",
   "execution_count": 81,
   "metadata": {},
   "outputs": [
    {
     "name": "stderr",
     "output_type": "stream",
     "text": [
      "[I 2024-08-10 22:07:02,774] Using an existing study with name 'RandomForestClasiffier-pesos' instead of creating a new one.\n",
      "[I 2024-08-10 22:07:37,585] Trial 1 finished with value: 0.980062089341368 and parameters: {'max_depth': 11}. Best is trial 1 with value: 0.980062089341368.\n",
      "[I 2024-08-10 22:08:13,952] Trial 2 finished with value: 0.980062089341368 and parameters: {'max_depth': 11}. Best is trial 1 with value: 0.980062089341368.\n",
      "[I 2024-08-10 22:08:45,747] Trial 3 finished with value: 0.9802098965259686 and parameters: {'max_depth': 13}. Best is trial 3 with value: 0.9802098965259686.\n",
      "[I 2024-08-10 22:09:15,897] Trial 4 finished with value: 0.980062089341368 and parameters: {'max_depth': 11}. Best is trial 3 with value: 0.9802098965259686.\n",
      "[I 2024-08-10 22:09:46,989] Trial 5 finished with value: 0.9800949347829948 and parameters: {'max_depth': 12}. Best is trial 3 with value: 0.9802098965259686.\n",
      "[I 2024-08-10 22:10:20,247] Trial 6 finished with value: 0.9802263243041803 and parameters: {'max_depth': 15}. Best is trial 6 with value: 0.9802263243041803.\n",
      "[I 2024-08-10 22:10:47,153] Trial 7 finished with value: 0.979626872573355 and parameters: {'max_depth': 9}. Best is trial 6 with value: 0.9802263243041803.\n",
      "[I 2024-08-10 22:11:20,821] Trial 8 finished with value: 0.9802263243041803 and parameters: {'max_depth': 15}. Best is trial 6 with value: 0.9802263243041803.\n",
      "[I 2024-08-10 22:11:37,362] Trial 9 finished with value: 0.9704380307044089 and parameters: {'max_depth': 4}. Best is trial 6 with value: 0.9802263243041803.\n",
      "[I 2024-08-10 22:12:09,188] Trial 10 finished with value: 0.980062089341368 and parameters: {'max_depth': 11}. Best is trial 6 with value: 0.9802263243041803.\n"
     ]
    }
   ],
   "source": [
    "#Inicio el store de artefactos (archivos) de optuna\n",
    "artifact_store = FileSystemArtifactStore(base_path=PATH_TO_OPTUNA_ARTIFACTS)\n",
    "\n",
    "# Train y Test\n",
    "X_train = X_train_pesos\n",
    "y_train = y_train_pesos\n",
    "X_test = X_test_pesos\n",
    "y_test = y_test_pesos\n",
    "train = train_pesos\n",
    "test = test_pesos\n",
    "\n",
    "#Genero estudio\n",
    "study = optuna.create_study(direction='maximize',\n",
    "                            storage=\"sqlite:///prueba.sqlite3\",  # Specify the storage URL here.\n",
    "                            study_name=\"RandomForestClasiffier-pesos\",\n",
    "                            load_if_exists = True)\n",
    "\n",
    "#Corro la optimizacion\n",
    "study.optimize(cv_es_rfc_objective, n_trials=10)"
   ]
  },
  {
   "cell_type": "markdown",
   "metadata": {},
   "source": [
    "### Modelo II: _Gradient Boosting Classifier_"
   ]
  },
  {
   "cell_type": "code",
   "execution_count": 82,
   "metadata": {},
   "outputs": [],
   "source": [
    "def cv_es_gbc_objective(trial):\n",
    "\n",
    "    #Parametros para LightGBM\n",
    "    gbc_params = {      \n",
    "                       # 'n_estimators': trial.suggest_int('n_estimators', 100, 1000),\n",
    "                        'learning_rate': trial.suggest_loguniform('learning_rate', 1e-3, 1.0),\n",
    "                       # 'max_depth': trial.suggest_int('max_depth', 3, 10),\n",
    "                        ##'min_samples_leaf': trial.suggest_int('min_samples_leaf', 1, 10),\n",
    "                        #'subsample': trial.suggest_uniform('subsample', 0.5, 1.0)\n",
    "                        #'max_features': trial.suggest_categorical('max_features', ['sqrt', 'log2', None]),\n",
    "                        #'max_features': trial.suggest_categorical('max_features', ['sqrt', 'log2', None, 'auto']),\n",
    "                        #'loss': trial.suggest_categorical('loss', ['deviance', 'exponential']),\n",
    "                        } \n",
    "\n",
    "    #Voy a generar estimaciones de los 5 modelos del CV sobre los datos test y los acumulo en la matriz scores_ensemble\n",
    "    scores_ensemble = np.zeros((len(y_test),len(y_train.unique())))\n",
    "\n",
    "    #Score del 5 fold CV inicializado en 0\n",
    "    score_folds = 0\n",
    "\n",
    "    #Numero de splits del CV\n",
    "    n_splits = 5\n",
    "\n",
    "    #Objeto para hacer el split estratificado de CV\n",
    "    skf = StratifiedKFold(n_splits=n_splits)\n",
    "\n",
    "    for i, (if_index, oof_index) in enumerate(skf.split(X_train, y_train)):\n",
    "        \n",
    "        # Dataset in fold (donde entreno)\n",
    "        X_if, y_if = X_train.iloc[if_index], y_train.iloc[if_index]\n",
    "        \n",
    "        # Dataset Out of fold (donde mido la performance del CV)\n",
    "        X_oof, y_oof = X_train.iloc[oof_index], y_train.iloc[oof_index]\n",
    "\n",
    "        # Crear el modelo RandomForestClassifier con los parámetros sugeridos\n",
    "        gbc_model = GradientBoostingClassifier(**gbc_params, random_state=42)\n",
    "        \n",
    "        # Entrenar el modelo\n",
    "        gbc_model.fit(X_if, y_if)\n",
    "        \n",
    "        # Acumular los scores (probabilidades) de cada clase para cada uno de los modelos que determino en los folds\n",
    "        scores_ensemble += gbc_model.predict_proba(X_test)\n",
    "        \n",
    "        # Score del fold (registros de dataset train que en este fold quedan out of fold)\n",
    "        score_folds += accuracy_score(y_oof, gbc_model.predict(X_oof)) / n_splits\n",
    "\n",
    "\n",
    "    #Guardo prediccion del trial sobre el conjunto de test\n",
    "    # Genero nombre de archivo\n",
    "    predicted_filename = os.path.join(PATH_TO_TEMP_FILES,f'test_{trial.study.study_name}_{trial.number}.joblib')\n",
    "    # Copia del dataset para guardar la prediccion\n",
    "    predicted_df = test.copy()\n",
    "    # Genero columna pred con predicciones sumadas de los 5 folds\n",
    "    predicted_df['pred'] = [scores_ensemble[p,:] for p in range(scores_ensemble.shape[0])]\n",
    "    # Grabo dataframe en temp_artifacts\n",
    "    dump(predicted_df, predicted_filename)\n",
    "    # Indico a optuna que asocie el archivo generado al trial\n",
    "    upload_artifact(trial, predicted_filename, artifact_store)    \n",
    "\n",
    "\n",
    "    #Determino score en conjunto de test y asocio como metrica adicional en optuna\n",
    "    test_score = accuracy_score(y_test, scores_ensemble.argmax(axis=1))\n",
    "    trial.set_user_attr(\"test_score\", test_score)\n",
    "\n",
    "    #Devuelvo score del 5fold cv a optuna para que optimice en base a eso\n",
    "    return(score_folds)"
   ]
  },
  {
   "cell_type": "markdown",
   "metadata": {},
   "source": [
    "Iniciamos optuna para el modelo GradientBoostingClassifier: dataset original"
   ]
  },
  {
   "cell_type": "code",
   "execution_count": 85,
   "metadata": {},
   "outputs": [
    {
     "name": "stderr",
     "output_type": "stream",
     "text": [
      "[I 2024-08-10 22:31:46,513] A new study created in RDB with name: gbc-original\n",
      "[I 2024-08-10 22:32:09,915] Trial 0 finished with value: 0.9667756210072052 and parameters: {'learning_rate': 0.08010917494262017}. Best is trial 0 with value: 0.9667756210072052.\n",
      "[I 2024-08-10 22:32:48,705] Trial 1 finished with value: 0.971185277819239 and parameters: {'learning_rate': 0.6206163321720828}. Best is trial 1 with value: 0.971185277819239.\n",
      "[I 2024-08-10 22:33:19,053] Trial 2 finished with value: 0.9667345674081903 and parameters: {'learning_rate': 0.025777977961861875}. Best is trial 1 with value: 0.971185277819239.\n",
      "[I 2024-08-10 22:33:51,418] Trial 3 finished with value: 0.8815385374253708 and parameters: {'learning_rate': 0.0012126232002202782}. Best is trial 1 with value: 0.971185277819239.\n",
      "[I 2024-08-10 22:34:22,970] Trial 4 finished with value: 0.9667345674081903 and parameters: {'learning_rate': 0.0251120193448501}. Best is trial 1 with value: 0.971185277819239.\n",
      "[I 2024-08-10 22:34:56,873] Trial 5 finished with value: 0.8815385374253708 and parameters: {'learning_rate': 0.0026620826248164153}. Best is trial 1 with value: 0.971185277819239.\n",
      "[I 2024-08-10 22:35:28,520] Trial 6 finished with value: 0.9667181386184989 and parameters: {'learning_rate': 0.0591951001625694}. Best is trial 1 with value: 0.971185277819239.\n",
      "[I 2024-08-10 22:36:02,958] Trial 7 finished with value: 0.9694936859899852 and parameters: {'learning_rate': 0.14000747382518008}. Best is trial 1 with value: 0.971185277819239.\n",
      "[I 2024-08-10 22:36:41,737] Trial 8 finished with value: 0.9711606395235202 and parameters: {'learning_rate': 0.2572437282463672}. Best is trial 1 with value: 0.971185277819239.\n",
      "[I 2024-08-10 22:37:20,833] Trial 9 finished with value: 0.9709225038342664 and parameters: {'learning_rate': 0.22649798067001722}. Best is trial 1 with value: 0.971185277819239.\n"
     ]
    }
   ],
   "source": [
    "#Inicio el store de artefactos (archivos) de optuna\n",
    "artifact_store = FileSystemArtifactStore(base_path=PATH_TO_OPTUNA_ARTIFACTS)\n",
    "\n",
    "# Train y Test\n",
    "X_train = X_train_original\n",
    "y_train = y_train_original\n",
    "X_test = X_test_original\n",
    "y_test = y_test_original\n",
    "train = train_original\n",
    "test = test_original\n",
    "\n",
    "#Genero estudio\n",
    "study = optuna.create_study(direction='maximize',\n",
    "                            storage=\"sqlite:///prueba.sqlite3\",  # Specify the storage URL here.\n",
    "                            study_name=\"gbc-original\",\n",
    "                            load_if_exists = True)\n",
    "#Corro la optimizacion\n",
    "study.optimize(cv_es_gbc_objective, n_trials=10)"
   ]
  },
  {
   "cell_type": "markdown",
   "metadata": {},
   "source": [
    "Iniciamos optuna para el modelo GradientBoostingClassifier: dataset con scores"
   ]
  },
  {
   "cell_type": "code",
   "execution_count": 86,
   "metadata": {},
   "outputs": [
    {
     "name": "stderr",
     "output_type": "stream",
     "text": [
      "[I 2024-08-10 22:37:42,377] A new study created in RDB with name: gbc-scores\n",
      "[I 2024-08-10 22:38:29,095] Trial 0 finished with value: 0.9793723057342907 and parameters: {'learning_rate': 0.35817942178526757}. Best is trial 0 with value: 0.9793723057342907.\n",
      "[I 2024-08-10 22:39:09,501] Trial 1 finished with value: 0.9550740050774256 and parameters: {'learning_rate': 0.0061731838546477385}. Best is trial 0 with value: 0.9793723057342907.\n",
      "[I 2024-08-10 22:39:46,168] Trial 2 finished with value: 0.8815385374253708 and parameters: {'learning_rate': 0.0014277055861603252}. Best is trial 0 with value: 0.9793723057342907.\n",
      "[I 2024-08-10 22:40:28,458] Trial 3 finished with value: 0.9769827147230541 and parameters: {'learning_rate': 0.9858506514191256}. Best is trial 0 with value: 0.9793723057342907.\n",
      "[I 2024-08-10 22:41:03,428] Trial 4 finished with value: 0.9796679275210094 and parameters: {'learning_rate': 0.39655729607463797}. Best is trial 4 with value: 0.9796679275210094.\n",
      "[I 2024-08-10 22:41:42,472] Trial 5 finished with value: 0.8815385374253708 and parameters: {'learning_rate': 0.002392784913153065}. Best is trial 4 with value: 0.9796679275210094.\n",
      "[I 2024-08-10 22:42:26,733] Trial 6 finished with value: 0.9795940203885303 and parameters: {'learning_rate': 0.44835286593969037}. Best is trial 4 with value: 0.9796679275210094.\n",
      "[I 2024-08-10 22:43:23,855] Trial 7 finished with value: 0.9724088185651291 and parameters: {'learning_rate': 0.04625448697951747}. Best is trial 4 with value: 0.9796679275210094.\n",
      "[I 2024-08-10 22:44:10,832] Trial 8 finished with value: 0.9654617531053016 and parameters: {'learning_rate': 0.020793172522110392}. Best is trial 4 with value: 0.9796679275210094.\n",
      "[I 2024-08-10 22:45:04,268] Trial 9 finished with value: 0.8815385374253708 and parameters: {'learning_rate': 0.0015914757107505179}. Best is trial 4 with value: 0.9796679275210094.\n"
     ]
    }
   ],
   "source": [
    "#Inicio el store de artefactos (archivos) de optuna\n",
    "artifact_store = FileSystemArtifactStore(base_path=PATH_TO_OPTUNA_ARTIFACTS)\n",
    "\n",
    "# Train y Test\n",
    "X_train = X_train_pesos\n",
    "y_train = y_train_pesos\n",
    "X_test = X_test_pesos\n",
    "y_test = y_test_pesos\n",
    "train = train_pesos\n",
    "test = test_pesos\n",
    "\n",
    "#Genero estudio\n",
    "study = optuna.create_study(direction='maximize',\n",
    "                            storage=\"sqlite:///prueba.sqlite3\",  # Specify the storage URL here.\n",
    "                            study_name=\"gbc-scores\",\n",
    "                            load_if_exists = True)\n",
    "#Corro la optimizacion\n",
    "study.optimize(cv_es_gbc_objective, n_trials=10)"
   ]
  },
  {
   "cell_type": "markdown",
   "metadata": {},
   "source": [
    "### Métricas y Gráficos"
   ]
  },
  {
   "cell_type": "markdown",
   "metadata": {},
   "source": [
    "#### Gráfico I: Accuracy en Train y Test"
   ]
  },
  {
   "cell_type": "code",
   "execution_count": 87,
   "metadata": {},
   "outputs": [
    {
     "data": {
      "text/plain": [
       "<Axes: title={'center': 'Train y test'}, xlabel='study'>"
      ]
     },
     "execution_count": 87,
     "metadata": {},
     "output_type": "execute_result"
    },
    {
     "data": {
      "image/png": "[encoded data removed]",
      "text/plain": [
       "<Figure size 640x480 with 1 Axes>"
      ]
     },
     "metadata": {},
     "output_type": "display_data"
    }
   ],
   "source": [
    "storage = 'sqlite:///prueba.sqlite3'\n",
    "studies_names = ['RandomForestClasiffier-original', \n",
    "           'RandomForestClasiffier-pesos', \n",
    "           'gbc-original',\n",
    "           'gbc-scores']\n",
    "\n",
    "studies = [optuna.load_study(study_name=study_name, storage=storage) for study_name in studies_names]\n",
    "\n",
    "df_result = pd.DataFrame()\n",
    "df_result['study'] = [study.study_name for study in studies]\n",
    "df_result['best_params'] = [study.best_params for study in studies]\n",
    "df_result['train_score'] = [study.best_trial.value for study in studies]\n",
    "df_result['test_score'] = [study.best_trial.user_attrs['test_score'] for study in studies]\n",
    "df_result.set_index('study', inplace=True   )\n",
    "\n",
    "df_result[['test_score','train_score']].sort_values('test_score',ascending=False,inplace=True,)\n",
    "\n",
    "df_result.plot(kind='bar', title='Train y test')"
   ]
  },
  {
   "cell_type": "markdown",
   "metadata": {},
   "source": [
    "#### Gráfico II: Curva ROC"
   ]
  },
  {
   "cell_type": "code",
   "execution_count": 92,
   "metadata": {},
   "outputs": [
    {
     "data": {
      "text/html": [
       "<style>#sk-container-id-2 {\n",
       "  /* Definition of color scheme common for light and dark mode */\n",
       "  --sklearn-color-text: black;\n",
       "  --sklearn-color-line: gray;\n",
       "  /* Definition of color scheme for unfitted estimators */\n",
       "  --sklearn-color-unfitted-level-0: #fff5e6;\n",
       "  --sklearn-color-unfitted-level-1: #f6e4d2;\n",
       "  --sklearn-color-unfitted-level-2: #ffe0b3;\n",
       "  --sklearn-color-unfitted-level-3: chocolate;\n",
       "  /* Definition of color scheme for fitted estimators */\n",
       "  --sklearn-color-fitted-level-0: #f0f8ff;\n",
       "  --sklearn-color-fitted-level-1: #d4ebff;\n",
       "  --sklearn-color-fitted-level-2: #b3dbfd;\n",
       "  --sklearn-color-fitted-level-3: cornflowerblue;\n",
       "\n",
       "  /* Specific color for light theme */\n",
       "  --sklearn-color-text-on-default-background: var(--sg-text-color, var(--theme-code-foreground, var(--jp-content-font-color1, black)));\n",
       "  --sklearn-color-background: var(--sg-background-color, var(--theme-background, var(--jp-layout-color0, white)));\n",
       "  --sklearn-color-border-box: var(--sg-text-color, var(--theme-code-foreground, var(--jp-content-font-color1, black)));\n",
       "  --sklearn-color-icon: #696969;\n",
       "\n",
       "  @media (prefers-color-scheme: dark) {\n",
       "    /* Redefinition of color scheme for dark theme */\n",
       "    --sklearn-color-text-on-default-background: var(--sg-text-color, var(--theme-code-foreground, var(--jp-content-font-color1, white)));\n",
       "    --sklearn-color-background: var(--sg-background-color, var(--theme-background, var(--jp-layout-color0, #111)));\n",
       "    --sklearn-color-border-box: var(--sg-text-color, var(--theme-code-foreground, var(--jp-content-font-color1, white)));\n",
       "    --sklearn-color-icon: #878787;\n",
       "  }\n",
       "}\n",
       "\n",
       "#sk-container-id-2 {\n",
       "  color: var(--sklearn-color-text);\n",
       "}\n",
       "\n",
       "#sk-container-id-2 pre {\n",
       "  padding: 0;\n",
       "}\n",
       "\n",
       "#sk-container-id-2 input.sk-hidden--visually {\n",
       "  border: 0;\n",
       "  clip: rect(1px 1px 1px 1px);\n",
       "  clip: rect(1px, 1px, 1px, 1px);\n",
       "  height: 1px;\n",
       "  margin: -1px;\n",
       "  overflow: hidden;\n",
       "  padding: 0;\n",
       "  position: absolute;\n",
       "  width: 1px;\n",
       "}\n",
       "\n",
       "#sk-container-id-2 div.sk-dashed-wrapped {\n",
       "  border: 1px dashed var(--sklearn-color-line);\n",
       "  margin: 0 0.4em 0.5em 0.4em;\n",
       "  box-sizing: border-box;\n",
       "  padding-bottom: 0.4em;\n",
       "  background-color: var(--sklearn-color-background);\n",
       "}\n",
       "\n",
       "#sk-container-id-2 div.sk-container {\n",
       "  /* jupyter's `normalize.less` sets `[hidden] { display: none; }`\n",
       "     but bootstrap.min.css set `[hidden] { display: none !important; }`\n",
       "     so we also need the `!important` here to be able to override the\n",
       "     default hidden behavior on the sphinx rendered scikit-learn.org.\n",
       "     See: https://github.com/scikit-learn/scikit-learn/issues/21755 */\n",
       "  display: inline-block !important;\n",
       "  position: relative;\n",
       "}\n",
       "\n",
       "#sk-container-id-2 div.sk-text-repr-fallback {\n",
       "  display: none;\n",
       "}\n",
       "\n",
       "div.sk-parallel-item,\n",
       "div.sk-serial,\n",
       "div.sk-item {\n",
       "  /* draw centered vertical line to link estimators */\n",
       "  background-image: linear-gradient(var(--sklearn-color-text-on-default-background), var(--sklearn-color-text-on-default-background));\n",
       "  background-size: 2px 100%;\n",
       "  background-repeat: no-repeat;\n",
       "  background-position: center center;\n",
       "}\n",
       "\n",
       "/* Parallel-specific style estimator block */\n",
       "\n",
       "#sk-container-id-2 div.sk-parallel-item::after {\n",
       "  content: \"\";\n",
       "  width: 100%;\n",
       "  border-bottom: 2px solid var(--sklearn-color-text-on-default-background);\n",
       "  flex-grow: 1;\n",
       "}\n",
       "\n",
       "#sk-container-id-2 div.sk-parallel {\n",
       "  display: flex;\n",
       "  align-items: stretch;\n",
       "  justify-content: center;\n",
       "  background-color: var(--sklearn-color-background);\n",
       "  position: relative;\n",
       "}\n",
       "\n",
       "#sk-container-id-2 div.sk-parallel-item {\n",
       "  display: flex;\n",
       "  flex-direction: column;\n",
       "}\n",
       "\n",
       "#sk-container-id-2 div.sk-parallel-item:first-child::after {\n",
       "  align-self: flex-end;\n",
       "  width: 50%;\n",
       "}\n",
       "\n",
       "#sk-container-id-2 div.sk-parallel-item:last-child::after {\n",
       "  align-self: flex-start;\n",
       "  width: 50%;\n",
       "}\n",
       "\n",
       "#sk-container-id-2 div.sk-parallel-item:only-child::after {\n",
       "  width: 0;\n",
       "}\n",
       "\n",
       "/* Serial-specific style estimator block */\n",
       "\n",
       "#sk-container-id-2 div.sk-serial {\n",
       "  display: flex;\n",
       "  flex-direction: column;\n",
       "  align-items: center;\n",
       "  background-color: var(--sklearn-color-background);\n",
       "  padding-right: 1em;\n",
       "  padding-left: 1em;\n",
       "}\n",
       "\n",
       "\n",
       "/* Toggleable style: style used for estimator/Pipeline/ColumnTransformer box that is\n",
       "clickable and can be expanded/collapsed.\n",
       "- Pipeline and ColumnTransformer use this feature and define the default style\n",
       "- Estimators will overwrite some part of the style using the `sk-estimator` class\n",
       "*/\n",
       "\n",
       "/* Pipeline and ColumnTransformer style (default) */\n",
       "\n",
       "#sk-container-id-2 div.sk-toggleable {\n",
       "  /* Default theme specific background. It is overwritten whether we have a\n",
       "  specific estimator or a Pipeline/ColumnTransformer */\n",
       "  background-color: var(--sklearn-color-background);\n",
       "}\n",
       "\n",
       "/* Toggleable label */\n",
       "#sk-container-id-2 label.sk-toggleable__label {\n",
       "  cursor: pointer;\n",
       "  display: block;\n",
       "  width: 100%;\n",
       "  margin-bottom: 0;\n",
       "  padding: 0.5em;\n",
       "  box-sizing: border-box;\n",
       "  text-align: center;\n",
       "}\n",
       "\n",
       "#sk-container-id-2 label.sk-toggleable__label-arrow:before {\n",
       "  /* Arrow on the left of the label */\n",
       "  content: \"▸\";\n",
       "  float: left;\n",
       "  margin-right: 0.25em;\n",
       "  color: var(--sklearn-color-icon);\n",
       "}\n",
       "\n",
       "#sk-container-id-2 label.sk-toggleable__label-arrow:hover:before {\n",
       "  color: var(--sklearn-color-text);\n",
       "}\n",
       "\n",
       "/* Toggleable content - dropdown */\n",
       "\n",
       "#sk-container-id-2 div.sk-toggleable__content {\n",
       "  max-height: 0;\n",
       "  max-width: 0;\n",
       "  overflow: hidden;\n",
       "  text-align: left;\n",
       "  /* unfitted */\n",
       "  background-color: var(--sklearn-color-unfitted-level-0);\n",
       "}\n",
       "\n",
       "#sk-container-id-2 div.sk-toggleable__content.fitted {\n",
       "  /* fitted */\n",
       "  background-color: var(--sklearn-color-fitted-level-0);\n",
       "}\n",
       "\n",
       "#sk-container-id-2 div.sk-toggleable__content pre {\n",
       "  margin: 0.2em;\n",
       "  border-radius: 0.25em;\n",
       "  color: var(--sklearn-color-text);\n",
       "  /* unfitted */\n",
       "  background-color: var(--sklearn-color-unfitted-level-0);\n",
       "}\n",
       "\n",
       "#sk-container-id-2 div.sk-toggleable__content.fitted pre {\n",
       "  /* unfitted */\n",
       "  background-color: var(--sklearn-color-fitted-level-0);\n",
       "}\n",
       "\n",
       "#sk-container-id-2 input.sk-toggleable__control:checked~div.sk-toggleable__content {\n",
       "  /* Expand drop-down */\n",
       "  max-height: 200px;\n",
       "  max-width: 100%;\n",
       "  overflow: auto;\n",
       "}\n",
       "\n",
       "#sk-container-id-2 input.sk-toggleable__control:checked~label.sk-toggleable__label-arrow:before {\n",
       "  content: \"▾\";\n",
       "}\n",
       "\n",
       "/* Pipeline/ColumnTransformer-specific style */\n",
       "\n",
       "#sk-container-id-2 div.sk-label input.sk-toggleable__control:checked~label.sk-toggleable__label {\n",
       "  color: var(--sklearn-color-text);\n",
       "  background-color: var(--sklearn-color-unfitted-level-2);\n",
       "}\n",
       "\n",
       "#sk-container-id-2 div.sk-label.fitted input.sk-toggleable__control:checked~label.sk-toggleable__label {\n",
       "  background-color: var(--sklearn-color-fitted-level-2);\n",
       "}\n",
       "\n",
       "/* Estimator-specific style */\n",
       "\n",
       "/* Colorize estimator box */\n",
       "#sk-container-id-2 div.sk-estimator input.sk-toggleable__control:checked~label.sk-toggleable__label {\n",
       "  /* unfitted */\n",
       "  background-color: var(--sklearn-color-unfitted-level-2);\n",
       "}\n",
       "\n",
       "#sk-container-id-2 div.sk-estimator.fitted input.sk-toggleable__control:checked~label.sk-toggleable__label {\n",
       "  /* fitted */\n",
       "  background-color: var(--sklearn-color-fitted-level-2);\n",
       "}\n",
       "\n",
       "#sk-container-id-2 div.sk-label label.sk-toggleable__label,\n",
       "#sk-container-id-2 div.sk-label label {\n",
       "  /* The background is the default theme color */\n",
       "  color: var(--sklearn-color-text-on-default-background);\n",
       "}\n",
       "\n",
       "/* On hover, darken the color of the background */\n",
       "#sk-container-id-2 div.sk-label:hover label.sk-toggleable__label {\n",
       "  color: var(--sklearn-color-text);\n",
       "  background-color: var(--sklearn-color-unfitted-level-2);\n",
       "}\n",
       "\n",
       "/* Label box, darken color on hover, fitted */\n",
       "#sk-container-id-2 div.sk-label.fitted:hover label.sk-toggleable__label.fitted {\n",
       "  color: var(--sklearn-color-text);\n",
       "  background-color: var(--sklearn-color-fitted-level-2);\n",
       "}\n",
       "\n",
       "/* Estimator label */\n",
       "\n",
       "#sk-container-id-2 div.sk-label label {\n",
       "  font-family: monospace;\n",
       "  font-weight: bold;\n",
       "  display: inline-block;\n",
       "  line-height: 1.2em;\n",
       "}\n",
       "\n",
       "#sk-container-id-2 div.sk-label-container {\n",
       "  text-align: center;\n",
       "}\n",
       "\n",
       "/* Estimator-specific */\n",
       "#sk-container-id-2 div.sk-estimator {\n",
       "  font-family: monospace;\n",
       "  border: 1px dotted var(--sklearn-color-border-box);\n",
       "  border-radius: 0.25em;\n",
       "  box-sizing: border-box;\n",
       "  margin-bottom: 0.5em;\n",
       "  /* unfitted */\n",
       "  background-color: var(--sklearn-color-unfitted-level-0);\n",
       "}\n",
       "\n",
       "#sk-container-id-2 div.sk-estimator.fitted {\n",
       "  /* fitted */\n",
       "  background-color: var(--sklearn-color-fitted-level-0);\n",
       "}\n",
       "\n",
       "/* on hover */\n",
       "#sk-container-id-2 div.sk-estimator:hover {\n",
       "  /* unfitted */\n",
       "  background-color: var(--sklearn-color-unfitted-level-2);\n",
       "}\n",
       "\n",
       "#sk-container-id-2 div.sk-estimator.fitted:hover {\n",
       "  /* fitted */\n",
       "  background-color: var(--sklearn-color-fitted-level-2);\n",
       "}\n",
       "\n",
       "/* Specification for estimator info (e.g. \"i\" and \"?\") */\n",
       "\n",
       "/* Common style for \"i\" and \"?\" */\n",
       "\n",
       ".sk-estimator-doc-link,\n",
       "a:link.sk-estimator-doc-link,\n",
       "a:visited.sk-estimator-doc-link {\n",
       "  float: right;\n",
       "  font-size: smaller;\n",
       "  line-height: 1em;\n",
       "  font-family: monospace;\n",
       "  background-color: var(--sklearn-color-background);\n",
       "  border-radius: 1em;\n",
       "  height: 1em;\n",
       "  width: 1em;\n",
       "  text-decoration: none !important;\n",
       "  margin-left: 1ex;\n",
       "  /* unfitted */\n",
       "  border: var(--sklearn-color-unfitted-level-1) 1pt solid;\n",
       "  color: var(--sklearn-color-unfitted-level-1);\n",
       "}\n",
       "\n",
       ".sk-estimator-doc-link.fitted,\n",
       "a:link.sk-estimator-doc-link.fitted,\n",
       "a:visited.sk-estimator-doc-link.fitted {\n",
       "  /* fitted */\n",
       "  border: var(--sklearn-color-fitted-level-1) 1pt solid;\n",
       "  color: var(--sklearn-color-fitted-level-1);\n",
       "}\n",
       "\n",
       "/* On hover */\n",
       "div.sk-estimator:hover .sk-estimator-doc-link:hover,\n",
       ".sk-estimator-doc-link:hover,\n",
       "div.sk-label-container:hover .sk-estimator-doc-link:hover,\n",
       ".sk-estimator-doc-link:hover {\n",
       "  /* unfitted */\n",
       "  background-color: var(--sklearn-color-unfitted-level-3);\n",
       "  color: var(--sklearn-color-background);\n",
       "  text-decoration: none;\n",
       "}\n",
       "\n",
       "div.sk-estimator.fitted:hover .sk-estimator-doc-link.fitted:hover,\n",
       ".sk-estimator-doc-link.fitted:hover,\n",
       "div.sk-label-container:hover .sk-estimator-doc-link.fitted:hover,\n",
       ".sk-estimator-doc-link.fitted:hover {\n",
       "  /* fitted */\n",
       "  background-color: var(--sklearn-color-fitted-level-3);\n",
       "  color: var(--sklearn-color-background);\n",
       "  text-decoration: none;\n",
       "}\n",
       "\n",
       "/* Span, style for the box shown on hovering the info icon */\n",
       ".sk-estimator-doc-link span {\n",
       "  display: none;\n",
       "  z-index: 9999;\n",
       "  position: relative;\n",
       "  font-weight: normal;\n",
       "  right: .2ex;\n",
       "  padding: .5ex;\n",
       "  margin: .5ex;\n",
       "  width: min-content;\n",
       "  min-width: 20ex;\n",
       "  max-width: 50ex;\n",
       "  color: var(--sklearn-color-text);\n",
       "  box-shadow: 2pt 2pt 4pt #999;\n",
       "  /* unfitted */\n",
       "  background: var(--sklearn-color-unfitted-level-0);\n",
       "  border: .5pt solid var(--sklearn-color-unfitted-level-3);\n",
       "}\n",
       "\n",
       ".sk-estimator-doc-link.fitted span {\n",
       "  /* fitted */\n",
       "  background: var(--sklearn-color-fitted-level-0);\n",
       "  border: var(--sklearn-color-fitted-level-3);\n",
       "}\n",
       "\n",
       ".sk-estimator-doc-link:hover span {\n",
       "  display: block;\n",
       "}\n",
       "\n",
       "/* \"?\"-specific style due to the `<a>` HTML tag */\n",
       "\n",
       "#sk-container-id-2 a.estimator_doc_link {\n",
       "  float: right;\n",
       "  font-size: 1rem;\n",
       "  line-height: 1em;\n",
       "  font-family: monospace;\n",
       "  background-color: var(--sklearn-color-background);\n",
       "  border-radius: 1rem;\n",
       "  height: 1rem;\n",
       "  width: 1rem;\n",
       "  text-decoration: none;\n",
       "  /* unfitted */\n",
       "  color: var(--sklearn-color-unfitted-level-1);\n",
       "  border: var(--sklearn-color-unfitted-level-1) 1pt solid;\n",
       "}\n",
       "\n",
       "#sk-container-id-2 a.estimator_doc_link.fitted {\n",
       "  /* fitted */\n",
       "  border: var(--sklearn-color-fitted-level-1) 1pt solid;\n",
       "  color: var(--sklearn-color-fitted-level-1);\n",
       "}\n",
       "\n",
       "/* On hover */\n",
       "#sk-container-id-2 a.estimator_doc_link:hover {\n",
       "  /* unfitted */\n",
       "  background-color: var(--sklearn-color-unfitted-level-3);\n",
       "  color: var(--sklearn-color-background);\n",
       "  text-decoration: none;\n",
       "}\n",
       "\n",
       "#sk-container-id-2 a.estimator_doc_link.fitted:hover {\n",
       "  /* fitted */\n",
       "  background-color: var(--sklearn-color-fitted-level-3);\n",
       "}\n",
       "</style><div id=\"sk-container-id-2\" class=\"sk-top-container\"><div class=\"sk-text-repr-fallback\"><pre>GradientBoostingClassifier(learning_rate=0.39655729607463797, random_state=42)</pre><b>In a Jupyter environment, please rerun this cell to show the HTML representation or trust the notebook. <br />On GitHub, the HTML representation is unable to render, please try loading this page with nbviewer.org.</b></div><div class=\"sk-container\" hidden><div class=\"sk-item\"><div class=\"sk-estimator fitted sk-toggleable\"><input class=\"sk-toggleable__control sk-hidden--visually\" id=\"sk-estimator-id-2\" type=\"checkbox\" checked><label for=\"sk-estimator-id-2\" class=\"sk-toggleable__label fitted sk-toggleable__label-arrow fitted\">&nbsp;&nbsp;GradientBoostingClassifier<a class=\"sk-estimator-doc-link fitted\" rel=\"noreferrer\" target=\"_blank\" href=\"https://scikit-learn.org/1.4/modules/generated/sklearn.ensemble.GradientBoostingClassifier.html\">?<span>Documentation for GradientBoostingClassifier</span></a><span class=\"sk-estimator-doc-link fitted\">i<span>Fitted</span></span></label><div class=\"sk-toggleable__content fitted\"><pre>GradientBoostingClassifier(learning_rate=0.39655729607463797, random_state=42)</pre></div> </div></div></div></div>"
      ],
      "text/plain": [
       "GradientBoostingClassifier(learning_rate=0.39655729607463797, random_state=42)"
      ]
     },
     "execution_count": 92,
     "metadata": {},
     "output_type": "execute_result"
    }
   ],
   "source": [
    "# entrenar todos los modelo para hacer predicciones y construir curva ROC\n",
    "m_rf_original = RandomForestClassifier(**df_result[\"best_params\"][\"RandomForestClasiffier-original\"],random_state=42)\n",
    "m_rf_original.fit(X_train_original, y_train_original)\n",
    "\n",
    "# entrenar todos los modelo para hacer predicciones y construir curva ROC\n",
    "m_rf_pesos = RandomForestClassifier(**df_result[\"best_params\"][\"RandomForestClasiffier-pesos\"],random_state=42)\n",
    "m_rf_pesos.fit(X_train_pesos, y_train_pesos)\n",
    "\n",
    "m_gb_original = GradientBoostingClassifier(**df_result[\"best_params\"][\"gbc-original\"],random_state=42)\n",
    "m_gb_original.fit(X_train_original, y_train_original)\n",
    "\n",
    "m_gb_pesos = GradientBoostingClassifier(**df_result[\"best_params\"][\"gbc-scores\"],random_state=42)\n",
    "m_gb_pesos.fit(X_train_pesos, y_train_pesos)"
   ]
  },
  {
   "cell_type": "code",
   "execution_count": 93,
   "metadata": {},
   "outputs": [],
   "source": [
    "# hacer las predicciones\n",
    "preds = pd.DataFrame()\n",
    "preds[\"m_rf_original\"] = m_rf_original.predict_proba(X_test_original)[:,1]\n",
    "preds[\"m_gb_original\"] = m_gb_original.predict_proba(X_test_original)[:,1]\n",
    "preds[\"m_rf_pesos\"] = m_rf_pesos.predict_proba(X_test_pesos)[:,1]\n",
    "preds[\"m_gb_pesos\"] = m_gb_pesos.predict_proba(X_test_pesos)[:,1]"
   ]
  },
  {
   "cell_type": "code",
   "execution_count": 94,
   "metadata": {},
   "outputs": [],
   "source": [
    "# Calcular la curva ROC y el AUC\n",
    "\n",
    "fpr_rf_original, tpr_rf_original, _ = roc_curve(y_test_original, preds[\"m_rf_original\"])\n",
    "roc_auc_rf_original = auc(fpr_rf_original, tpr_rf_original)\n",
    "\n",
    "fpr_gb_original, tpr_gb_original, _ = roc_curve(y_test_original, preds[\"m_rf_original\"])\n",
    "roc_auc_gb_original = auc(fpr_gb_original, tpr_gb_original)\n",
    "\n",
    "fpr_rf_pesos, tpr_rf_pesos, _ = roc_curve(y_test_pesos, preds[\"m_rf_pesos\"])\n",
    "roc_auc_rf_pesos = auc(fpr_rf_pesos, tpr_rf_pesos)\n",
    "\n",
    "fpr_gb_pesos, tpr_gb_pesos, _ = roc_curve(y_test_pesos, preds[\"m_rf_pesos\"])\n",
    "roc_auc_gb_pesos = auc(fpr_gb_pesos, tpr_gb_pesos)\n",
    "\n"
   ]
  },
  {
   "cell_type": "code",
   "execution_count": 95,
   "metadata": {},
   "outputs": [
    {
     "data": {
      "image/png": "[encoded data removed]",
      "text/plain": [
       "<Figure size 1000x600 with 1 Axes>"
      ]
     },
     "metadata": {},
     "output_type": "display_data"
    }
   ],
   "source": [
    "plt.figure(figsize=(10, 6))\n",
    "\n",
    "\n",
    "\n",
    "plt.plot(fpr_rf_original, tpr_rf_original, color='orange', lw=2, label=f'RandomForestClasiffier (AUC = {roc_auc_rf_original:.2f})')\n",
    "plt.plot(fpr_rf_pesos, tpr_rf_pesos, color='orange', lw=2, label=f'RandomForestClasiffier (AUC = {roc_auc_rf_pesos:.2f})')\n",
    "plt.plot(fpr_gb_original, tpr_gb_original, color='purple', lw=2, label=f'GradientBoostingClasiffier (AUC = {roc_auc_gb_original:.2f})')\n",
    "plt.plot(fpr_gb_pesos, tpr_gb_pesos, color='purple', lw=2, label=f'GradientBoostingClasiffier (AUC = {roc_auc_gb_pesos:.2f})')\n",
    "\n",
    "# Graficar la línea de referencia\n",
    "plt.plot([0, 1], [0, 1], color='grey', lw=2, linestyle='--')\n",
    "\n",
    "# Configurar detalles del gráfico\n",
    "plt.xlim([0.0, 1.0])\n",
    "plt.ylim([0.0, 1.05])\n",
    "plt.xlabel('False Positive Rate')\n",
    "plt.ylabel('True Positive Rate')\n",
    "plt.title('Receiver Operating Characteristic (ROC) Curve')\n",
    "plt.legend(loc=\"lower right\")\n",
    "plt.grid(True)\n",
    "\n",
    "# Mostrar el gráfico\n",
    "plt.show()"
   ]
  },
  {
   "cell_type": "markdown",
   "metadata": {},
   "source": [
    "#### Gráfico III: Matríz de confusión"
   ]
  },
  {
   "cell_type": "code",
   "execution_count": 100,
   "metadata": {},
   "outputs": [
    {
     "data": {
      "image/png": "[encoded data removed]",
      "text/plain": [
       "<Figure size 1200x600 with 8 Axes>"
      ]
     },
     "metadata": {},
     "output_type": "display_data"
    }
   ],
   "source": [
    "fig, ax = plt.subplots(3, 3, figsize=(12, 6))\n",
    "\n",
    "\n",
    "cm_rf_original= metrics.confusion_matrix(y_test, m_rf_original.predict(X_test_original))\n",
    "cm_gb_original= metrics.confusion_matrix(y_test, m_gb_original.predict(X_test_original))\n",
    "cm_rf_pesos= metrics.confusion_matrix(y_test, m_rf_pesos.predict(X_test_pesos))\n",
    "cm_gb_pesos= metrics.confusion_matrix(y_test, m_gb_pesos.predict(X_test_pesos))\n",
    "\n",
    "metrics.ConfusionMatrixDisplay(confusion_matrix = cm_rf_original, display_labels = [0, 1]).plot(ax=ax[0,0])\n",
    "metrics.ConfusionMatrixDisplay(confusion_matrix = cm_rf_pesos, display_labels = [0, 1]).plot(ax=ax[0,1])\n",
    "metrics.ConfusionMatrixDisplay(confusion_matrix = cm_gb_original, display_labels = [0, 1]).plot(ax=ax[0,2])\n",
    "metrics.ConfusionMatrixDisplay(confusion_matrix = cm_gb_pesos, display_labels = [0, 1]).plot(ax=ax[1,0])\n",
    "\n",
    "\n",
    "ax[0,0].set_title('RandomForestClasiffier-original')\n",
    "ax[0,1].set_title('RandomForestClasiffier-pesos')\n",
    "ax[0,2].set_title('GradientBoostingClasiffier-original')\n",
    "ax[1,0].set_title('GradientBoostingClasiffier-pesos')\n",
    "\n",
    "\n",
    "fig.delaxes(ax[1, 1])\n",
    "fig.delaxes(ax[1, 2])\n",
    "fig.delaxes(ax[2, 0])\n",
    "fig.delaxes(ax[2, 1])\n",
    "fig.delaxes(ax[2, 2])\n",
    "\n",
    "plt.suptitle(\"Matrices de Confusión\")\n",
    "plt.tight_layout()\n",
    "\n",
    "plt.show()"
   ]
  },
  {
   "cell_type": "markdown",
   "metadata": {},
   "source": [
    "#### Métricas del RandomForest"
   ]
  },
  {
   "cell_type": "code",
   "execution_count": 101,
   "metadata": {},
   "outputs": [
    {
     "name": "stdout",
     "output_type": "stream",
     "text": [
      "              precision    recall  f1-score   support\n",
      "\n",
      "           0       0.98      0.99      0.98     26800\n",
      "           1       0.91      0.84      0.88      3645\n",
      "\n",
      "    accuracy                           0.97     30445\n",
      "   macro avg       0.95      0.92      0.93     30445\n",
      "weighted avg       0.97      0.97      0.97     30445\n",
      "\n"
     ]
    }
   ],
   "source": [
    "print(classification_report(y_test_original,m_rf_original.predict(X_test_original)))"
   ]
  },
  {
   "cell_type": "code",
   "execution_count": 102,
   "metadata": {},
   "outputs": [
    {
     "name": "stdout",
     "output_type": "stream",
     "text": [
      "              precision    recall  f1-score   support\n",
      "\n",
      "           0       0.99      0.99      0.99     26800\n",
      "           1       0.93      0.91      0.92      3645\n",
      "\n",
      "    accuracy                           0.98     30445\n",
      "   macro avg       0.96      0.95      0.95     30445\n",
      "weighted avg       0.98      0.98      0.98     30445\n",
      "\n"
     ]
    }
   ],
   "source": [
    "print(classification_report(y_test_pesos,m_rf_pesos.predict(X_test_pesos)))"
   ]
  },
  {
   "cell_type": "markdown",
   "metadata": {},
   "source": [
    "#### Métricas del GradientBoosting"
   ]
  },
  {
   "cell_type": "code",
   "execution_count": 103,
   "metadata": {},
   "outputs": [
    {
     "name": "stdout",
     "output_type": "stream",
     "text": [
      "              precision    recall  f1-score   support\n",
      "\n",
      "           0       0.98      0.99      0.98     26800\n",
      "           1       0.91      0.84      0.87      3645\n",
      "\n",
      "    accuracy                           0.97     30445\n",
      "   macro avg       0.94      0.91      0.93     30445\n",
      "weighted avg       0.97      0.97      0.97     30445\n",
      "\n"
     ]
    }
   ],
   "source": [
    "print(classification_report(y_test_original,m_gb_original.predict(X_test_original)))"
   ]
  },
  {
   "cell_type": "code",
   "execution_count": 104,
   "metadata": {},
   "outputs": [
    {
     "name": "stdout",
     "output_type": "stream",
     "text": [
      "              precision    recall  f1-score   support\n",
      "\n",
      "           0       0.99      0.99      0.99     26800\n",
      "           1       0.93      0.90      0.91      3645\n",
      "\n",
      "    accuracy                           0.98     30445\n",
      "   macro avg       0.96      0.95      0.95     30445\n",
      "weighted avg       0.98      0.98      0.98     30445\n",
      "\n"
     ]
    }
   ],
   "source": [
    "print(classification_report(y_test_pesos,m_gb_pesos.predict(X_test_pesos)))"
   ]
  }
 ],
 "metadata": {
  "kernelspec": {
   "display_name": "Python 3",
   "language": "python",
   "name": "python3"
  },
  "language_info": {
   "codemirror_mode": {
    "name": "ipython",
    "version": 3
   },
   "file_extension": ".py",
   "mimetype": "text/x-python",
   "name": "python",
   "nbconvert_exporter": "python",
   "pygments_lexer": "ipython3",
   "version": "3.11.9"
  }
 },
 "nbformat": 4,
 "nbformat_minor": 2
}
