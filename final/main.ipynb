{
 "cells": [
  {
   "cell_type": "markdown",
   "metadata": {},
   "source": [
    "# Text Mining aplicado a la Tesorería de Tucuman"
   ]
  },
  {
   "cell_type": "markdown",
   "metadata": {},
   "source": [
    "## Problema"
   ]
  },
  {
   "cell_type": "code",
   "execution_count": null,
   "metadata": {},
   "outputs": [],
   "source": []
  },
  {
   "cell_type": "code",
   "execution_count": null,
   "metadata": {},
   "outputs": [],
   "source": [
    "import pandas as pd\n",
    "import preprocessing\n",
    "import train_lightgbm\n",
    "import test_lightgbm\n",
    "import train_onevsrest\n",
    "import test_onevsrest\n",
    "import train_rn\n",
    "import warnings\n",
    "import os\n",
    "warnings.filterwarnings(\"ignore\")"
   ]
  },
  {
   "cell_type": "markdown",
   "metadata": {},
   "source": [
    "Creacion de carpetas para los modelos"
   ]
  },
  {
   "cell_type": "code",
   "execution_count": 2,
   "metadata": {},
   "outputs": [],
   "source": [
    "\n",
    "os.makedirs(\"models\",exist_ok=True)\n",
    "os.makedirs(\"models/lgbm\", exist_ok=True)\n",
    "os.makedirs(f\"models/lgbm/modelo_base\", exist_ok=True)   \n",
    "os.makedirs(f\"models/lgbm/modelo_text_mining\", exist_ok=True)   \n",
    "os.makedirs(f\"models/lgbm/modelo_completo\", exist_ok=True)   \n",
    "os.makedirs(f\"models/lgbm/modelo_tfidf\", exist_ok=True)   \n",
    "\n",
    "\n",
    "os.makedirs(\"models\",exist_ok=True)\n",
    "os.makedirs(\"models/onevsrest\", exist_ok=True)\n",
    "os.makedirs(f\"models/onevsrest/modelo_base\", exist_ok=True)   \n",
    "os.makedirs(f\"models/onevsrest/modelo_text_mining\", exist_ok=True)   \n",
    "os.makedirs(f\"models/onevsrest/modelo_completo\", exist_ok=True)   \n",
    "os.makedirs(f\"models/onevsrest/modelo_tfidf\", exist_ok=True)   \n",
    "\n",
    "\n",
    "os.makedirs(\"models\",exist_ok=True)\n",
    "os.makedirs(\"models/randomforest\", exist_ok=True)\n",
    "os.makedirs(f\"models/randomforest/modelo_base\", exist_ok=True)   \n",
    "os.makedirs(f\"models/randomforest/modelo_text_mining\", exist_ok=True)   \n",
    "os.makedirs(f\"models/randomforest/modelo_completo\", exist_ok=True)   \n",
    "os.makedirs(f\"models/randomforest/modelo_tfidf\", exist_ok=True)   "
   ]
  },
  {
   "cell_type": "markdown",
   "metadata": {},
   "source": [
    "## EDA"
   ]
  },
  {
   "cell_type": "markdown",
   "metadata": {},
   "source": [
    "<i> Hicimos un Notebook a parte llamdo EDA.ipynb </i>"
   ]
  },
  {
   "cell_type": "markdown",
   "metadata": {},
   "source": [
    "## Preprocessing"
   ]
  },
  {
   "cell_type": "code",
   "execution_count": null,
   "metadata": {},
   "outputs": [],
   "source": [
    "import importlib \n",
    "import preprocessing\n",
    "importlib.reload(preprocessing)\n",
    "preprocessing.preprocess()"
   ]
  },
  {
   "cell_type": "markdown",
   "metadata": {},
   "source": [
    "Aquí lo que hicimos fue:\n",
    "- eliminamos columnas que no servían, \n",
    "- imputamos NA's\n",
    "- Covertimos el campo Class de categórico a numérico (es nuestra variable target)\n",
    "- hicimos un preprocesamiento de texto"
   ]
  },
  {
   "cell_type": "markdown",
   "metadata": {},
   "source": [
    "Procesamiento de texto:\n",
    "- Quedarnos solo con los números y letras\n",
    "- Separar el texto de los números\n",
    "- Eliminar espacios adicionales\n",
    "- Eliminar las stopwords\n",
    "- Aplicar tokenización y lematización\n",
    "- Filtrar aquellas palabras cuya longitud es mínimo 3 caracteres. "
   ]
  },
  {
   "cell_type": "markdown",
   "metadata": {},
   "source": [
    "## Feature Engineering"
   ]
  },
  {
   "cell_type": "code",
   "execution_count": null,
   "metadata": {},
   "outputs": [],
   "source": [
    "import importlib \n",
    "import feature_engineering\n",
    "importlib.reload(feature_engineering)\n",
    "feature_engineering.fe()"
   ]
  },
  {
   "cell_type": "markdown",
   "metadata": {},
   "source": [
    "Lo que hicimos fue:\n",
    "- Crear variables de texto tanto para la Descripción sin procesar como procesada: longitud, cantidad de palabras.\n",
    "- Aplicar OneHotEncoding a las variables categóricas\n",
    "- Aignamos pesos a las palabras del campo texto_limpio\n",
    "- Estandarizamos los pesos anteriores"
   ]
  },
  {
   "cell_type": "markdown",
   "metadata": {},
   "source": [
    "## Modelos"
   ]
  },
  {
   "cell_type": "markdown",
   "metadata": {},
   "source": [
    "Para el presente trabajo, decidimos utilizar tres algoritmos y evaluar su performance:\n",
    "- LightGBM\n",
    "- Gradient Boosting\n",
    "- Random Forest"
   ]
  },
  {
   "cell_type": "markdown",
   "metadata": {},
   "source": [
    "Decidimos crear 4 escenarios para cada uno de los modelos:\n",
    "- Escenario 1: lo llamamos modelo_base, y consiste en usar los datos crudos, sin aplicar el preprocesamiento de texto.\n",
    "- Escenario 2: lo llamamos modelo_text_mining: aplicamos preprocesamiento y feature engineering completo, acá ya tenemos los pesos calculados.\n",
    "- Escenario 3: lo llamamos modelo_completo. Al el Escenario 2 le agregamos TF-IDF\n",
    "- Escenario 4: lo llamamos modelo_tf_idf porque solo usamos como input la salida de este modelo."
   ]
  },
  {
   "cell_type": "code",
   "execution_count": null,
   "metadata": {},
   "outputs": [],
   "source": []
  },
  {
   "cell_type": "markdown",
   "metadata": {},
   "source": [
    "## AutoKeras"
   ]
  },
  {
   "cell_type": "markdown",
   "metadata": {},
   "source": [
    "Decidimos aplicar AutoKeras a nuestro campo Descripción, especificamente nos basamos en un text classification a partir del mismo."
   ]
  },
  {
   "cell_type": "markdown",
   "metadata": {},
   "source": [
    "Para lo cual creamos 3 escenarios:\n",
    "- Escenario 1: aplicar autokeras al campo descripción sin procesar, crudo.\n",
    "- Escenario 2: aplicar autokeras al campo descripción ya procesado.\n",
    "- Escenario 3: aplicar autokeras al campo descripción ya procesado pero quitandole las palabras más frecuentes como RES, CTA, etc."
   ]
  },
  {
   "cell_type": "markdown",
   "metadata": {},
   "source": [
    "Los resultados están en el notebook __autokeras_text_classification.ipynb__"
   ]
  },
  {
   "cell_type": "markdown",
   "metadata": {},
   "source": [
    "## Text Mining"
   ]
  },
  {
   "cell_type": "markdown",
   "metadata": {},
   "source": [
    "El análisis del campo \"texto_limpio\" que corresponde al preprocesamiento aplicado al campo de texto \"Descripcion\" se encuentra en el notebook __text_mining.ipynb__"
   ]
  },
  {
   "cell_type": "markdown",
   "metadata": {},
   "source": [
    "## Conclusión"
   ]
  },
  {
   "cell_type": "code",
   "execution_count": null,
   "metadata": {},
   "outputs": [],
   "source": []
  }
 ],
 "metadata": {
  "kernelspec": {
   "display_name": "ldi2",
   "language": "python",
   "name": "python3"
  },
  "language_info": {
   "codemirror_mode": {
    "name": "ipython",
    "version": 3
   },
   "file_extension": ".py",
   "mimetype": "text/x-python",
   "name": "python",
   "nbconvert_exporter": "python",
   "pygments_lexer": "ipython3",
   "version": "3.11.9"
  }
 },
 "nbformat": 4,
 "nbformat_minor": 2
}
