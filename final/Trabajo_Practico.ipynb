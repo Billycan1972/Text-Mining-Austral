{
 "cells": [
  {
   "cell_type": "markdown",
   "metadata": {},
   "source": [
    "Trabajo Práctico Text-Mining"
   ]
  },
  {
   "cell_type": "markdown",
   "metadata": {},
   "source": [
    "### Planteo del Problema\n",
    "\n",
    "En la Tesorería General de la Provincia de Tucumán nos encontramos con el problema de que la clasificación de ordenes de pago se realiza de manera manual."
   ]
  }
 ],
 "metadata": {
  "language_info": {
   "name": "python"
  }
 },
 "nbformat": 4,
 "nbformat_minor": 2
}
